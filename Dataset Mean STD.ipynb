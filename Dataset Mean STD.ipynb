{
 "cells": [
  {
   "cell_type": "code",
   "execution_count": 1,
   "metadata": {
    "collapsed": true
   },
   "outputs": [],
   "source": [
    "import os\n",
    "import numpy as np\n",
    "import PIL\n",
    "from torchvision import transforms"
   ]
  },
  {
   "cell_type": "code",
   "execution_count": 2,
   "metadata": {
    "collapsed": true
   },
   "outputs": [],
   "source": [
    "def GetFilesFromFolder(folderPath, extension):\n",
    "    files = []\n",
    "    for file in os.listdir(folderPath):\n",
    "        if file.endswith(extension):\n",
    "            filePath = os.path.join(folderPath, file)\n",
    "            files.append(filePath)\n",
    "    return files\n",
    "\n",
    "def LoadImageAsTensor(path):\n",
    "    PILImage = PIL.Image.open(path)\n",
    "    return transforms.ToTensor()(PILImage)"
   ]
  },
  {
   "cell_type": "code",
   "execution_count": 3,
   "metadata": {},
   "outputs": [
    {
     "name": "stdout",
     "output_type": "stream",
     "text": [
      "Total 351 files found.\n"
     ]
    }
   ],
   "source": [
    "basePath = 'g:/Selim/Thesis/Code/PyTorch/EBA5 MSoS/train/defect'\n",
    "extension = '.png'\n",
    "allFiles = []\n",
    "\n",
    "for dir in os.walk(basePath):\n",
    "    allFiles += GetFilesFromFolder(dir[0], extension)\n",
    "\n",
    "print('Total ' + str(len(allFiles)) + ' files found.')"
   ]
  },
  {
   "cell_type": "code",
   "execution_count": 5,
   "metadata": {},
   "outputs": [
    {
     "name": "stdout",
     "output_type": "stream",
     "text": [
      "0.544978628454\n",
      "0.0564096715989\n"
     ]
    }
   ],
   "source": [
    "means = np.zeros((1, len(allFiles)))\n",
    "stdvs = np.zeros((1, len(allFiles)))\n",
    "\n",
    "mean = []\n",
    "std = []\n",
    "\n",
    "for i, imagePath in enumerate(allFiles):\n",
    "    image = LoadImageAsTensor(imagePath)\n",
    "    means[0,i] = image.mean()\n",
    "    stdvs[0,i] = image.std()\n",
    "\n",
    "print(means.mean())\n",
    "print(stdvs.mean())"
   ]
  },
  {
   "cell_type": "code",
   "execution_count": null,
   "metadata": {
    "collapsed": true
   },
   "outputs": [],
   "source": []
  }
 ],
 "metadata": {
  "kernelspec": {
   "display_name": "Python 3",
   "language": "python",
   "name": "python3"
  },
  "language_info": {
   "codemirror_mode": {
    "name": "ipython",
    "version": 3
   },
   "file_extension": ".py",
   "mimetype": "text/x-python",
   "name": "python",
   "nbconvert_exporter": "python",
   "pygments_lexer": "ipython3",
   "version": "3.6.1"
  }
 },
 "nbformat": 4,
 "nbformat_minor": 2
}
