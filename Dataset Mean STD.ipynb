{
 "cells": [
  {
   "cell_type": "code",
   "execution_count": 1,
   "metadata": {
    "collapsed": true
   },
   "outputs": [],
   "source": [
    "import os\n",
    "import numpy as np\n",
    "import PIL\n",
    "from torchvision import transforms"
   ]
  },
  {
   "cell_type": "code",
   "execution_count": 2,
   "metadata": {
    "collapsed": true
   },
   "outputs": [],
   "source": [
    "def GetFilesFromFolder(folderPath, extension):\n",
    "    files = []\n",
    "    for file in os.listdir(folderPath):\n",
    "        if file.endswith(extension):\n",
    "            filePath = os.path.join(folderPath, file)\n",
    "            files.append(filePath)\n",
    "    return files\n",
    "\n",
    "def LoadImageAsTensor(path):\n",
    "    PILImage = PIL.Image.open(path)\n",
    "    return transforms.ToTensor()(PILImage)"
   ]
  },
  {
   "cell_type": "code",
   "execution_count": 3,
   "metadata": {},
   "outputs": [
    {
     "name": "stdout",
     "output_type": "stream",
     "text": [
      "Total 1991 files found.\n"
     ]
    }
   ],
   "source": [
    "basePath = 'f:/Datasets/KR2/train'\n",
    "extension = '.png'\n",
    "allFiles = []\n",
    "\n",
    "for dir in os.walk(basePath):\n",
    "    allFiles += GetFilesFromFolder(dir[0], extension)\n",
    "\n",
    "print('Total ' + str(len(allFiles)) + ' files found.')"
   ]
  },
  {
   "cell_type": "code",
   "execution_count": 4,
   "metadata": {},
   "outputs": [
    {
     "name": "stdout",
     "output_type": "stream",
     "text": [
      "Dimensions: 1\n",
      "0.434288\n"
     ]
    },
    {
     "ename": "IndexError",
     "evalue": "index 1 is out of bounds for axis 0 with size 1",
     "output_type": "error",
     "traceback": [
      "\u001b[1;31m---------------------------------------------------------------------------\u001b[0m",
      "\u001b[1;31mIndexError\u001b[0m                                Traceback (most recent call last)",
      "\u001b[1;32m<ipython-input-4-a8cefb058901>\u001b[0m in \u001b[0;36m<module>\u001b[1;34m()\u001b[0m\n\u001b[0;32m      5\u001b[0m \u001b[1;31m#rMean, gMean, bMean\u001b[0m\u001b[1;33m\u001b[0m\u001b[1;33m\u001b[0m\u001b[0m\n\u001b[0;32m      6\u001b[0m \u001b[0mprint\u001b[0m\u001b[1;33m(\u001b[0m\u001b[0mnpArray\u001b[0m\u001b[1;33m[\u001b[0m\u001b[1;36m0\u001b[0m\u001b[1;33m,\u001b[0m\u001b[1;33m:\u001b[0m\u001b[1;33m,\u001b[0m\u001b[1;33m:\u001b[0m\u001b[1;33m]\u001b[0m\u001b[1;33m.\u001b[0m\u001b[0mmean\u001b[0m\u001b[1;33m(\u001b[0m\u001b[1;33m)\u001b[0m\u001b[1;33m)\u001b[0m\u001b[1;33m\u001b[0m\u001b[0m\n\u001b[1;32m----> 7\u001b[1;33m \u001b[0mprint\u001b[0m\u001b[1;33m(\u001b[0m\u001b[0mnpArray\u001b[0m\u001b[1;33m[\u001b[0m\u001b[1;36m1\u001b[0m\u001b[1;33m,\u001b[0m\u001b[1;33m:\u001b[0m\u001b[1;33m,\u001b[0m\u001b[1;33m:\u001b[0m\u001b[1;33m]\u001b[0m\u001b[1;33m.\u001b[0m\u001b[0mmean\u001b[0m\u001b[1;33m(\u001b[0m\u001b[1;33m)\u001b[0m\u001b[1;33m)\u001b[0m\u001b[1;33m\u001b[0m\u001b[0m\n\u001b[0m\u001b[0;32m      8\u001b[0m \u001b[0mprint\u001b[0m\u001b[1;33m(\u001b[0m\u001b[0mnpArray\u001b[0m\u001b[1;33m[\u001b[0m\u001b[1;36m2\u001b[0m\u001b[1;33m,\u001b[0m\u001b[1;33m:\u001b[0m\u001b[1;33m,\u001b[0m\u001b[1;33m:\u001b[0m\u001b[1;33m]\u001b[0m\u001b[1;33m.\u001b[0m\u001b[0mmean\u001b[0m\u001b[1;33m(\u001b[0m\u001b[1;33m)\u001b[0m\u001b[1;33m)\u001b[0m\u001b[1;33m\u001b[0m\u001b[0m\n",
      "\u001b[1;31mIndexError\u001b[0m: index 1 is out of bounds for axis 0 with size 1"
     ]
    }
   ],
   "source": [
    "dimensions = LoadImageAsTensor(allFiles[0]).size()[0]\n",
    "print('Dimensions: ' + str(dimensions))\n",
    "\n",
    "npArray = LoadImageAsTensor(allFiles[0]).numpy()\n",
    "#rMean, gMean, bMean\n",
    "print(npArray[0,:,:].mean())\n",
    "print(npArray[1,:,:].mean())\n",
    "print(npArray[2,:,:].mean())"
   ]
  },
  {
   "cell_type": "code",
   "execution_count": 5,
   "metadata": {},
   "outputs": [
    {
     "name": "stdout",
     "output_type": "stream",
     "text": [
      "Dim 0 mean: 0.425628425212\n",
      "Dim 0 stdv: 0.0511853708183\n"
     ]
    }
   ],
   "source": [
    "means = np.zeros((dimensions, len(allFiles)))\n",
    "stdvs = np.zeros((dimensions, len(allFiles)))\n",
    "\n",
    "mean = []\n",
    "std = []\n",
    "\n",
    "for i, imagePath in enumerate(allFiles):\n",
    "    image = LoadImageAsTensor(imagePath)\n",
    "    \n",
    "    for dim in range(dimensions):\n",
    "        means[dim,i] = image[dim,:,:].mean()\n",
    "        stdvs[dim,i] = image[dim,:,:].std()\n",
    "\n",
    "for dim in range(dimensions):\n",
    "    print('Dim ' + str(dim) + ' mean: ' + str(means[dim].mean()))\n",
    "    print('Dim ' + str(dim) + ' stdv: ' + str(stdvs[dim].mean()))\n"
   ]
  },
  {
   "cell_type": "code",
   "execution_count": null,
   "metadata": {
    "collapsed": true
   },
   "outputs": [],
   "source": []
  },
  {
   "cell_type": "code",
   "execution_count": null,
   "metadata": {
    "collapsed": true
   },
   "outputs": [],
   "source": []
  }
 ],
 "metadata": {
  "kernelspec": {
   "display_name": "Python 3",
   "language": "python",
   "name": "python3"
  },
  "language_info": {
   "codemirror_mode": {
    "name": "ipython",
    "version": 3
   },
   "file_extension": ".py",
   "mimetype": "text/x-python",
   "name": "python",
   "nbconvert_exporter": "python",
   "pygments_lexer": "ipython3",
   "version": "3.6.1"
  }
 },
 "nbformat": 4,
 "nbformat_minor": 2
}
