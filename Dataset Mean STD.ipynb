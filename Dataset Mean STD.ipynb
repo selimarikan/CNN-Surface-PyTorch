{
 "cells": [
  {
   "cell_type": "code",
   "execution_count": 1,
   "metadata": {
    "collapsed": true
   },
   "outputs": [],
   "source": [
    "import os\n",
    "import numpy as np\n",
    "import PIL\n",
    "from torchvision import transforms"
   ]
  },
  {
   "cell_type": "code",
   "execution_count": 2,
   "metadata": {
    "collapsed": true
   },
   "outputs": [],
   "source": [
    "def GetFilesFromFolder(folderPath, extension):\n",
    "    files = []\n",
    "    for file in os.listdir(folderPath):\n",
    "        if file.endswith(extension):\n",
    "            filePath = os.path.join(folderPath, file)\n",
    "            files.append(filePath)\n",
    "    return files\n",
    "\n",
    "def LoadImageAsTensor(path):\n",
    "    PILImage = PIL.Image.open(path)\n",
    "    return transforms.ToTensor()(PILImage)"
   ]
  },
  {
   "cell_type": "code",
   "execution_count": 7,
   "metadata": {},
   "outputs": [
    {
     "name": "stdout",
     "output_type": "stream",
     "text": [
      "Total 2770 files found.\n"
     ]
    }
   ],
   "source": [
    "basePath = 'g:/Selim/Thesis/Code/PyTorch/Flower5Class/train/'\n",
    "extension = '.jpg'\n",
    "allFiles = []\n",
    "\n",
    "for dir in os.walk(basePath):\n",
    "    allFiles += GetFilesFromFolder(dir[0], extension)\n",
    "\n",
    "print('Total ' + str(len(allFiles)) + ' files found.')"
   ]
  },
  {
   "cell_type": "code",
   "execution_count": 29,
   "metadata": {},
   "outputs": [
    {
     "name": "stdout",
     "output_type": "stream",
     "text": [
      "Dimensions: 3\n",
      "0.652039\n",
      "0.619956\n",
      "0.508916\n"
     ]
    }
   ],
   "source": [
    "dimensions = LoadImageAsTensor(allFiles[0]).size()[0]\n",
    "print('Dimensions: ' + str(dimensions))\n",
    "\n",
    "npArray = LoadImageAsTensor(allFiles[0]).numpy()\n",
    "#rMean, gMean, bMean\n",
    "print(npArray[0,:,:].mean())\n",
    "print(npArray[1,:,:].mean())\n",
    "print(npArray[2,:,:].mean())"
   ]
  },
  {
   "cell_type": "code",
   "execution_count": 31,
   "metadata": {},
   "outputs": [
    {
     "name": "stdout",
     "output_type": "stream",
     "text": [
      "Dim 0 mean: 0.462846264682\n",
      "Dim 0 stdv: 0.251614976903\n",
      "Dim 1 mean: 0.4218518616\n",
      "Dim 1 stdv: 0.22580325766\n",
      "Dim 2 mean: 0.300035001939\n",
      "Dim 2 stdv: 0.228333671604\n"
     ]
    }
   ],
   "source": [
    "means = np.zeros((dimensions, len(allFiles)))\n",
    "stdvs = np.zeros((dimensions, len(allFiles)))\n",
    "\n",
    "mean = []\n",
    "std = []\n",
    "\n",
    "for i, imagePath in enumerate(allFiles):\n",
    "    image = LoadImageAsTensor(imagePath)\n",
    "    \n",
    "    for dim in range(dimensions):\n",
    "        means[dim,i] = image[dim,:,:].mean()\n",
    "        stdvs[dim,i] = image[dim,:,:].std()\n",
    "\n",
    "for dim in range(dimensions):\n",
    "    print('Dim ' + str(dim) + ' mean: ' + str(means[dim].mean()))\n",
    "    print('Dim ' + str(dim) + ' stdv: ' + str(stdvs[dim].mean()))\n"
   ]
  },
  {
   "cell_type": "code",
   "execution_count": null,
   "metadata": {
    "collapsed": true
   },
   "outputs": [],
   "source": []
  }
 ],
 "metadata": {
  "kernelspec": {
   "display_name": "Python 3",
   "language": "python",
   "name": "python3"
  },
  "language_info": {
   "codemirror_mode": {
    "name": "ipython",
    "version": 3
   },
   "file_extension": ".py",
   "mimetype": "text/x-python",
   "name": "python",
   "nbconvert_exporter": "python",
   "pygments_lexer": "ipython3",
   "version": "3.6.1"
  }
 },
 "nbformat": 4,
 "nbformat_minor": 2
}
